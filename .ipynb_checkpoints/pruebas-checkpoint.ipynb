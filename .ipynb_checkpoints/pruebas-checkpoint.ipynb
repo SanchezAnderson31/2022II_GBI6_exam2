{
 "cells": [
  {
   "cell_type": "code",
   "execution_count": 14,
   "id": "85d9de43",
   "metadata": {},
   "outputs": [],
   "source": [
    "sequence = \"\"  \n",
    "with open(\"data/coati.txt\") as coati:\n",
    "    name = coati.readline()[0:-1]\n",
    "    for line in coati:\n",
    "        sequence += line.replace(\"\\n\",\"\")\n",
    "    #return faster\n",
    "#print(\"La secuencia es: {0}\".format(sequence))"
   ]
  },
  {
   "cell_type": "code",
   "execution_count": null,
   "id": "970fc5f8",
   "metadata": {},
   "outputs": [],
   "source": []
  }
 ],
 "metadata": {
  "kernelspec": {
   "display_name": "Python 3 (ipykernel)",
   "language": "python",
   "name": "python3"
  },
  "language_info": {
   "codemirror_mode": {
    "name": "ipython",
    "version": 3
   },
   "file_extension": ".py",
   "mimetype": "text/x-python",
   "name": "python",
   "nbconvert_exporter": "python",
   "pygments_lexer": "ipython3",
   "version": "3.9.13"
  }
 },
 "nbformat": 4,
 "nbformat_minor": 5
}
