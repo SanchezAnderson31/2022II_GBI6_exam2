{
 "cells": [
  {
   "cell_type": "markdown",
   "metadata": {},
   "source": [
    "<img src=\"http://www.ikiam.edu.ec/wp-content/uploads/2021/12/logo-ikiam-1.png\" width=300 height=240 />\n",
    "<font color='red'></font>\n",
    "\n",
    "# EXAMEN PARCIAL PYTHON\n",
    "    \n",
    "\n",
    "## GBI6-2022II: BIOINFORMÁTICA\n",
    "\n",
    " <font color='black'>Sanchez Pujota Anderson Fabian</font>\n",
    "\n",
    "**01-02-2023**"
   ]
  },
  {
   "cell_type": "markdown",
   "metadata": {},
   "source": [
    "### REQUERIMIENTOS PARA EL EXAMEN\n",
    "\n",
    "Utilice de preferencia ```Jupyter``` de Anaconda, dado que tienen que hacer un control de cambios en cada pregunta. \n",
    "\n",
    "Para este examen se requiere dos documentos: \n",
    "\n",
    "1. Archivo ```coati.py``` donde tendrá dos funciones:\n",
    "\n",
    "2. Archivo ```2022II_GBI6_ExamenPython``` donde se llamará las funciones y se obtendrá resultados."
   ]
  },
  {
   "cell_type": "markdown",
   "metadata": {},
   "source": [
    "## Ejercicio 0 [0.5 puntos]\n",
    "Realice cambios al cuaderno de jupyter: \n",
    "- Agregue el logo de la Universidad\n",
    "- Coloque sus datos personales \n",
    "- Escriba una <font color='red'>**tabla**</font> con las características de su computador \n",
    "## **Datos personales**\n",
    "\n",
    "* Anderson Sánchez\n",
    "* Edad: 22\n",
    "* Ciudad de origen: Tabacundo\n",
    "* Idiomas: Español, Inglés \n",
    "* Deportes: Fútbol, MTB\n",
    "\n",
    "## Caracteristicas de la computadora\n",
    "<h1>Tabla de datos de la computadora</h1>\n",
    "<table border=\"1\">\n",
    "  <tr>\n",
    "      <td>procesador</td>\n",
    "      <td>AMD Ryzen 3 3250U with Radeon Graphics 2.60 GHz <a href=\"https://Ryzen/en/\"> <img alt=\"Ryzen\" src=\"https://www.logolynx.com/images/logolynx/c3/c3f43dce1adb8f757ccad1f23e2ecbf3.jpeg\" width=\"90\" height=\"55\"></td>\n",
    "  </tr>\n",
    "  <tr>\n",
    "      <td>RAM instalada<!td>\n",
    "      <td>16.0 GB (13.9 GB utilizable)  <a href=\"https://T-Forze/en/\"> <img alt=\"T-Forze\" src=\"https://images10.newegg.com/BizIntell/item/20/331/20-331-383/a55_091719.jpg\" width=\"100\" height=\"55\"><!td>\n",
    "  </tr>\n",
    "  <tr>\n",
    "      <td>Sistema operativo<!td>\n",
    "      <td>Windows 11 Home  <a href=\"https://Windows/en/\"> <img alt=\"Windows\" src=\"https://askleo.com/wp-content/uploads/2021/06/windows11-1200x681.jpg.webp\" width=\"100\" height=\"55\"><!td>\n",
    "  </tr>\n",
    "  <tr>\n",
    "      <td>tipo de sistema</td>\n",
    "      <td>sistema operativode 64bits</td>\n",
    "   </tr>"
   ]
  },
  {
   "cell_type": "markdown",
   "metadata": {},
   "source": [
    "## Ejercicio 1 [1.5 puntos]\n",
    "<img src=\"https://github.com/SanchezAnderson31/2022II_GBI6_exam2/blob/main/img/Anderson%20Fabian%20S%C3%A1nchez%20Pujota%20-%20Pandas.png?raw=true\" width=300 height=240 />"
   ]
  },
  {
   "cell_type": "markdown",
   "metadata": {},
   "source": []
  },
  {
   "cell_type": "markdown",
   "metadata": {},
   "source": [
    "## Ejercicio 2 [1.5 puntos]\n",
    "<img src=\"https://github.com/SanchezAnderson31/2022II_GBI6_exam2/blob/main/img/Anderson%20Fabian%20S%C3%A1nchez%20Pujota%20-%20Data%20Visualization.png?raw=true\" width=300 height=240 />"
   ]
  },
  {
   "cell_type": "markdown",
   "metadata": {},
   "source": []
  },
  {
   "cell_type": "markdown",
   "metadata": {},
   "source": [
    "## Ejercicio 3 [3 puntos]\n",
    "\n",
    "En su carpeta de examen tiene el documento ```id_coati.txt``` donde se encuentran los identificadores de accesión que debe usar para descargar información. \n",
    "Cree el módulo ```coati.py``` con las siguientes tres **funciones** y sus respectivos **docstring** :\n",
    "    \n",
    "i. ```fasta_downloader```: para cargar ```id_coati.txt``` en ```id_coati```y descargar en **formato genbank** la información correspondiente a los identificadores de accesión usando el **ENTREZ** de Biopythony se guardar en ```coati``` y en ```coati.gb```. \n",
    "\n",
    "ii. ```alignment```: para que el algoritmo extraiga **solamente las secuencias** de la variable ```coati``` y realice un alineamiento usando clustalW. El resultado debe ser ```coati.aln``` y ```coati.dnd``` que deben guardarse en su carpeta de trabajo.  \n",
    "\n",
    "iii ```tree```: para que realice el cálculo de las distancias utilizando ```coati.aln``` y finalmente que imprima en la pantalla el árbol filogenético y guarde en su carpeta de trabajo el arbol como ```coati_phylotree.pdf```\n",
    "\n",
    "iv. Cargue el módulo ```coati``` e **imprima docstring de cada función**.\n"
   ]
  },
  {
   "cell_type": "code",
   "execution_count": 8,
   "metadata": {},
   "outputs": [
    {
     "name": "stdout",
     "output_type": "stream",
     "text": [
      "Requirement already satisfied: biopython in t:\\games\\anaconda\\lib\\site-packages (1.80)\n",
      "Requirement already satisfied: numpy in t:\\games\\anaconda\\lib\\site-packages (from biopython) (1.21.5)\n",
      "Requirement already satisfied: reportlab in t:\\games\\anaconda\\lib\\site-packages (3.6.12)\n",
      "Requirement already satisfied: pillow>=9.0.0 in t:\\games\\anaconda\\lib\\site-packages (from reportlab) (9.2.0)\n",
      "Requirement already satisfied: nglview in t:\\games\\anaconda\\lib\\site-packages (3.0.3)\n",
      "Requirement already satisfied: numpy in t:\\games\\anaconda\\lib\\site-packages (from nglview) (1.21.5)\n",
      "Requirement already satisfied: ipywidgets>=7 in t:\\games\\anaconda\\lib\\site-packages (from nglview) (7.6.5)\n",
      "Requirement already satisfied: jupyterlab-widgets in t:\\games\\anaconda\\lib\\site-packages (from nglview) (1.0.0)\n",
      "Requirement already satisfied: traitlets>=4.3.1 in t:\\games\\anaconda\\lib\\site-packages (from ipywidgets>=7->nglview) (5.1.1)\n",
      "Requirement already satisfied: ipython>=4.0.0 in t:\\games\\anaconda\\lib\\site-packages (from ipywidgets>=7->nglview) (7.31.1)\n",
      "Requirement already satisfied: ipython-genutils~=0.2.0 in t:\\games\\anaconda\\lib\\site-packages (from ipywidgets>=7->nglview) (0.2.0)\n",
      "Requirement already satisfied: widgetsnbextension~=3.5.0 in t:\\games\\anaconda\\lib\\site-packages (from ipywidgets>=7->nglview) (3.5.2)\n",
      "Requirement already satisfied: nbformat>=4.2.0 in t:\\games\\anaconda\\lib\\site-packages (from ipywidgets>=7->nglview) (5.5.0)\n",
      "Requirement already satisfied: ipykernel>=4.5.1 in t:\\games\\anaconda\\lib\\site-packages (from ipywidgets>=7->nglview) (6.15.2)\n",
      "Requirement already satisfied: jupyter-client>=6.1.12 in t:\\games\\anaconda\\lib\\site-packages (from ipykernel>=4.5.1->ipywidgets>=7->nglview) (7.3.4)\n",
      "Requirement already satisfied: debugpy>=1.0 in t:\\games\\anaconda\\lib\\site-packages (from ipykernel>=4.5.1->ipywidgets>=7->nglview) (1.5.1)\n",
      "Requirement already satisfied: pyzmq>=17 in t:\\games\\anaconda\\lib\\site-packages (from ipykernel>=4.5.1->ipywidgets>=7->nglview) (23.2.0)\n",
      "Requirement already satisfied: nest-asyncio in t:\\games\\anaconda\\lib\\site-packages (from ipykernel>=4.5.1->ipywidgets>=7->nglview) (1.5.5)\n",
      "Requirement already satisfied: psutil in t:\\games\\anaconda\\lib\\site-packages (from ipykernel>=4.5.1->ipywidgets>=7->nglview) (5.9.0)\n",
      "Requirement already satisfied: tornado>=6.1 in t:\\games\\anaconda\\lib\\site-packages (from ipykernel>=4.5.1->ipywidgets>=7->nglview) (6.1)\n",
      "Requirement already satisfied: packaging in t:\\games\\anaconda\\lib\\site-packages (from ipykernel>=4.5.1->ipywidgets>=7->nglview) (21.3)\n",
      "Requirement already satisfied: matplotlib-inline>=0.1 in t:\\games\\anaconda\\lib\\site-packages (from ipykernel>=4.5.1->ipywidgets>=7->nglview) (0.1.6)\n",
      "Requirement already satisfied: decorator in t:\\games\\anaconda\\lib\\site-packages (from ipython>=4.0.0->ipywidgets>=7->nglview) (5.1.1)\n",
      "Requirement already satisfied: prompt-toolkit!=3.0.0,!=3.0.1,<3.1.0,>=2.0.0 in t:\\games\\anaconda\\lib\\site-packages (from ipython>=4.0.0->ipywidgets>=7->nglview) (3.0.20)\n",
      "Requirement already satisfied: pygments in t:\\games\\anaconda\\lib\\site-packages (from ipython>=4.0.0->ipywidgets>=7->nglview) (2.11.2)\n",
      "Requirement already satisfied: backcall in t:\\games\\anaconda\\lib\\site-packages (from ipython>=4.0.0->ipywidgets>=7->nglview) (0.2.0)\n",
      "Requirement already satisfied: pickleshare in t:\\games\\anaconda\\lib\\site-packages (from ipython>=4.0.0->ipywidgets>=7->nglview) (0.7.5)\n",
      "Requirement already satisfied: setuptools>=18.5 in t:\\games\\anaconda\\lib\\site-packages (from ipython>=4.0.0->ipywidgets>=7->nglview) (63.4.1)\n",
      "Requirement already satisfied: colorama in t:\\games\\anaconda\\lib\\site-packages (from ipython>=4.0.0->ipywidgets>=7->nglview) (0.4.5)\n",
      "Requirement already satisfied: jedi>=0.16 in t:\\games\\anaconda\\lib\\site-packages (from ipython>=4.0.0->ipywidgets>=7->nglview) (0.18.1)\n",
      "Requirement already satisfied: jsonschema>=2.6 in t:\\games\\anaconda\\lib\\site-packages (from nbformat>=4.2.0->ipywidgets>=7->nglview) (4.16.0)\n",
      "Requirement already satisfied: jupyter_core in t:\\games\\anaconda\\lib\\site-packages (from nbformat>=4.2.0->ipywidgets>=7->nglview) (4.11.1)\n",
      "Requirement already satisfied: fastjsonschema in t:\\games\\anaconda\\lib\\site-packages (from nbformat>=4.2.0->ipywidgets>=7->nglview) (2.16.2)\n",
      "Requirement already satisfied: notebook>=4.4.1 in t:\\games\\anaconda\\lib\\site-packages (from widgetsnbextension~=3.5.0->ipywidgets>=7->nglview) (6.4.12)\n",
      "Requirement already satisfied: parso<0.9.0,>=0.8.0 in t:\\games\\anaconda\\lib\\site-packages (from jedi>=0.16->ipython>=4.0.0->ipywidgets>=7->nglview) (0.8.3)\n",
      "Requirement already satisfied: pyrsistent!=0.17.0,!=0.17.1,!=0.17.2,>=0.14.0 in t:\\games\\anaconda\\lib\\site-packages (from jsonschema>=2.6->nbformat>=4.2.0->ipywidgets>=7->nglview) (0.18.0)\n",
      "Requirement already satisfied: attrs>=17.4.0 in t:\\games\\anaconda\\lib\\site-packages (from jsonschema>=2.6->nbformat>=4.2.0->ipywidgets>=7->nglview) (21.4.0)\n",
      "Requirement already satisfied: entrypoints in t:\\games\\anaconda\\lib\\site-packages (from jupyter-client>=6.1.12->ipykernel>=4.5.1->ipywidgets>=7->nglview) (0.4)\n",
      "Requirement already satisfied: python-dateutil>=2.8.2 in t:\\games\\anaconda\\lib\\site-packages (from jupyter-client>=6.1.12->ipykernel>=4.5.1->ipywidgets>=7->nglview) (2.8.2)\n",
      "Requirement already satisfied: pywin32>=1.0 in t:\\games\\anaconda\\lib\\site-packages (from jupyter_core->nbformat>=4.2.0->ipywidgets>=7->nglview) (302)\n",
      "Requirement already satisfied: prometheus-client in t:\\games\\anaconda\\lib\\site-packages (from notebook>=4.4.1->widgetsnbextension~=3.5.0->ipywidgets>=7->nglview) (0.14.1)\n",
      "Requirement already satisfied: jinja2 in t:\\games\\anaconda\\lib\\site-packages (from notebook>=4.4.1->widgetsnbextension~=3.5.0->ipywidgets>=7->nglview) (2.11.3)\n",
      "Requirement already satisfied: Send2Trash>=1.8.0 in t:\\games\\anaconda\\lib\\site-packages (from notebook>=4.4.1->widgetsnbextension~=3.5.0->ipywidgets>=7->nglview) (1.8.0)\n",
      "Requirement already satisfied: nbconvert>=5 in t:\\games\\anaconda\\lib\\site-packages (from notebook>=4.4.1->widgetsnbextension~=3.5.0->ipywidgets>=7->nglview) (6.4.4)\n",
      "Requirement already satisfied: terminado>=0.8.3 in t:\\games\\anaconda\\lib\\site-packages (from notebook>=4.4.1->widgetsnbextension~=3.5.0->ipywidgets>=7->nglview) (0.13.1)\n",
      "Requirement already satisfied: argon2-cffi in t:\\games\\anaconda\\lib\\site-packages (from notebook>=4.4.1->widgetsnbextension~=3.5.0->ipywidgets>=7->nglview) (21.3.0)\n",
      "Requirement already satisfied: wcwidth in t:\\games\\anaconda\\lib\\site-packages (from prompt-toolkit!=3.0.0,!=3.0.1,<3.1.0,>=2.0.0->ipython>=4.0.0->ipywidgets>=7->nglview) (0.2.5)\n",
      "Requirement already satisfied: pyparsing!=3.0.5,>=2.0.2 in t:\\games\\anaconda\\lib\\site-packages (from packaging->ipykernel>=4.5.1->ipywidgets>=7->nglview) (3.0.9)\n",
      "Requirement already satisfied: pandocfilters>=1.4.1 in t:\\games\\anaconda\\lib\\site-packages (from nbconvert>=5->notebook>=4.4.1->widgetsnbextension~=3.5.0->ipywidgets>=7->nglview) (1.5.0)\n",
      "Requirement already satisfied: mistune<2,>=0.8.1 in t:\\games\\anaconda\\lib\\site-packages (from nbconvert>=5->notebook>=4.4.1->widgetsnbextension~=3.5.0->ipywidgets>=7->nglview) (0.8.4)\n",
      "Requirement already satisfied: defusedxml in t:\\games\\anaconda\\lib\\site-packages (from nbconvert>=5->notebook>=4.4.1->widgetsnbextension~=3.5.0->ipywidgets>=7->nglview) (0.7.1)\n",
      "Requirement already satisfied: testpath in t:\\games\\anaconda\\lib\\site-packages (from nbconvert>=5->notebook>=4.4.1->widgetsnbextension~=3.5.0->ipywidgets>=7->nglview) (0.6.0)\n",
      "Requirement already satisfied: beautifulsoup4 in t:\\games\\anaconda\\lib\\site-packages (from nbconvert>=5->notebook>=4.4.1->widgetsnbextension~=3.5.0->ipywidgets>=7->nglview) (4.11.1)\n",
      "Requirement already satisfied: nbclient<0.6.0,>=0.5.0 in t:\\games\\anaconda\\lib\\site-packages (from nbconvert>=5->notebook>=4.4.1->widgetsnbextension~=3.5.0->ipywidgets>=7->nglview) (0.5.13)\n",
      "Requirement already satisfied: bleach in t:\\games\\anaconda\\lib\\site-packages (from nbconvert>=5->notebook>=4.4.1->widgetsnbextension~=3.5.0->ipywidgets>=7->nglview) (4.1.0)\n",
      "Requirement already satisfied: jupyterlab-pygments in t:\\games\\anaconda\\lib\\site-packages (from nbconvert>=5->notebook>=4.4.1->widgetsnbextension~=3.5.0->ipywidgets>=7->nglview) (0.1.2)\n",
      "Requirement already satisfied: MarkupSafe>=0.23 in t:\\games\\anaconda\\lib\\site-packages (from jinja2->notebook>=4.4.1->widgetsnbextension~=3.5.0->ipywidgets>=7->nglview) (2.0.1)\n",
      "Requirement already satisfied: six>=1.5 in t:\\games\\anaconda\\lib\\site-packages (from python-dateutil>=2.8.2->jupyter-client>=6.1.12->ipykernel>=4.5.1->ipywidgets>=7->nglview) (1.16.0)\n",
      "Requirement already satisfied: pywinpty>=1.1.0 in t:\\games\\anaconda\\lib\\site-packages (from terminado>=0.8.3->notebook>=4.4.1->widgetsnbextension~=3.5.0->ipywidgets>=7->nglview) (2.0.2)\n",
      "Requirement already satisfied: argon2-cffi-bindings in t:\\games\\anaconda\\lib\\site-packages (from argon2-cffi->notebook>=4.4.1->widgetsnbextension~=3.5.0->ipywidgets>=7->nglview) (21.2.0)\n",
      "Requirement already satisfied: cffi>=1.0.1 in t:\\games\\anaconda\\lib\\site-packages (from argon2-cffi-bindings->argon2-cffi->notebook>=4.4.1->widgetsnbextension~=3.5.0->ipywidgets>=7->nglview) (1.15.1)\n",
      "Requirement already satisfied: soupsieve>1.2 in t:\\games\\anaconda\\lib\\site-packages (from beautifulsoup4->nbconvert>=5->notebook>=4.4.1->widgetsnbextension~=3.5.0->ipywidgets>=7->nglview) (2.3.1)\n",
      "Requirement already satisfied: webencodings in t:\\games\\anaconda\\lib\\site-packages (from bleach->nbconvert>=5->notebook>=4.4.1->widgetsnbextension~=3.5.0->ipywidgets>=7->nglview) (0.5.1)\n",
      "Requirement already satisfied: pycparser in t:\\games\\anaconda\\lib\\site-packages (from cffi>=1.0.1->argon2-cffi-bindings->argon2-cffi->notebook>=4.4.1->widgetsnbextension~=3.5.0->ipywidgets>=7->nglview) (2.21)\n"
     ]
    }
   ],
   "source": [
    "# Escriba aquí su código para el ejercicio 3\n",
    "!pip install biopython\n",
    "!pip install reportlab\n",
    "!pip install nglview\n",
    "import coati as co"
   ]
  },
  {
   "cell_type": "code",
   "execution_count": 13,
   "metadata": {},
   "outputs": [],
   "source": [
    "?co.faster_downloader\n",
    "?co.alignment\n",
    "?co.tree"
   ]
  },
  {
   "cell_type": "markdown",
   "metadata": {},
   "source": [
    "\n",
    "## Ejercicio 4 [1.5 puntos]\n",
    "\n",
    "Escriba una o dos líneas de código para usar las funciones ```fasta_downloader```, ```alignment``` y ```tree```: \n",
    "\n",
    "i. Descargue la data en ```coati``` y guarde como ```coati.gdb```.  \n",
    "\n",
    "ii. Alinee las secuencias de ```coati``` y obtenga ```coati.aln``` y ```coati.dnd```.\n",
    "\n",
    "iii. Construya e **interprete** el arbol filogenético y guarde en ```coati_phylotree.pdf```."
   ]
  },
  {
   "cell_type": "code",
   "execution_count": 53,
   "metadata": {},
   "outputs": [],
   "source": [
    "# Escriba aquí su código para el ejercicio 4\n"
   ]
  },
  {
   "cell_type": "markdown",
   "metadata": {},
   "source": [
    "## Ejercicio 5 [1.5 puntos]\n",
    "\n",
    "Con las secuencias de ADN de ```coati```, realice lo siguiente: \n",
    "\n",
    "i. la traducción y cálculo del peso molecular (**molecular_weight**) y el índice de estabilidad (**instability_index**) de los péptidos resultantes. \n",
    "\n",
    "ii. una gráfica tipo [joinplot](https://seaborn.pydata.org/generated/seaborn.jointplot.html#seaborn.jointplot) utilizando los parámetros de peso molecular e índice de estabilidad. Edite color, tamaño y tipo de puntos, asimismo etiquete adecuadamente el título y los ejes.\n",
    "\n",
    "iii. guarde la figura como ```coati.png``` con una resolución de 300dpi.\n",
    "\n",
    "iv. interprete la figura resultante"
   ]
  },
  {
   "cell_type": "code",
   "execution_count": 4,
   "metadata": {},
   "outputs": [],
   "source": [
    "# Escriba aquí su código para el ejercicio 5\n",
    "\n",
    "\n",
    "\n",
    "\n",
    "\n",
    "\n",
    "\n",
    "\n",
    "\n",
    "\n",
    "\n",
    "\n",
    "\n",
    "\n",
    "\n"
   ]
  },
  {
   "cell_type": "markdown",
   "metadata": {},
   "source": [
    "## Ejercicio 6 [0.5 puntos]\n",
    "\n",
    "\n",
    "1. Cree un archivo ```Readme.md``` que debe tener lo siguiente:\n",
    "- Datos personales\n",
    "- Características del computador\n",
    "- Versión de Python/Anaconda y de cada uno de los módulos/paquetes y utilizados\n",
    "- Explicación de la data utilizada\n",
    "\n",
    "2. Asegurarse que su repositorio tiene las carpetas ```data``` e ```img``` con los archivos que ha ido guardando en las preguntas anteriores.  \n",
    "3. Realice al menos 1 control de la versión (commits) por cada ejercicio (del 1 al 5), con un mensaje que inicie como: \n",
    "\n",
    "```sh \n",
    "Carlitos Alimaña ha realizado el ejercicio 1  \n",
    "```\n",
    "```sh \n",
    "Carlitos Alimaña ha realizado el ejercicio 2\n",
    "```\n",
    "```sh \n",
    "...\n",
    "```\n"
   ]
  },
  {
   "cell_type": "code",
   "execution_count": null,
   "metadata": {},
   "outputs": [],
   "source": []
  }
 ],
 "metadata": {
  "kernelspec": {
   "display_name": "Python 3 (ipykernel)",
   "language": "python",
   "name": "python3"
  },
  "language_info": {
   "codemirror_mode": {
    "name": "ipython",
    "version": 3
   },
   "file_extension": ".py",
   "mimetype": "text/x-python",
   "name": "python",
   "nbconvert_exporter": "python",
   "pygments_lexer": "ipython3",
   "version": "3.9.13"
  },
  "latex_envs": {
   "LaTeX_envs_menu_present": true,
   "autoclose": false,
   "autocomplete": true,
   "bibliofile": "biblio.bib",
   "cite_by": "apalike",
   "current_citInitial": 1,
   "eqLabelWithNumbers": true,
   "eqNumInitial": 1,
   "hotkeys": {
    "equation": "Ctrl-E",
    "itemize": "Ctrl-I"
   },
   "labels_anchors": false,
   "latex_user_defs": false,
   "report_style_numbering": false,
   "user_envs_cfg": false
  },
  "toc": {
   "base_numbering": 1,
   "nav_menu": {},
   "number_sections": true,
   "sideBar": false,
   "skip_h1_title": false,
   "title_cell": "Table of Contents",
   "title_sidebar": "Contents",
   "toc_cell": false,
   "toc_position": {
    "height": "1152.67px",
    "left": "41px",
    "top": "110px",
    "width": "253.458px"
   },
   "toc_section_display": true,
   "toc_window_display": false
  },
  "varInspector": {
   "cols": {
    "lenName": 16,
    "lenType": 16,
    "lenVar": 40
   },
   "kernels_config": {
    "python": {
     "delete_cmd_postfix": "",
     "delete_cmd_prefix": "del ",
     "library": "var_list.py",
     "varRefreshCmd": "print(var_dic_list())"
    },
    "r": {
     "delete_cmd_postfix": ") ",
     "delete_cmd_prefix": "rm(",
     "library": "var_list.r",
     "varRefreshCmd": "cat(var_dic_list()) "
    }
   },
   "types_to_exclude": [
    "module",
    "function",
    "builtin_function_or_method",
    "instance",
    "_Feature"
   ],
   "window_display": false
  }
 },
 "nbformat": 4,
 "nbformat_minor": 4
}
