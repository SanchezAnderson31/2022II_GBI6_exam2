{
 "cells": [
  {
   "cell_type": "code",
   "execution_count": 17,
   "id": "4867c581",
   "metadata": {},
   "outputs": [],
   "source": []
  },
  {
   "cell_type": "code",
   "execution_count": 21,
   "id": "e6cfcabc",
   "metadata": {},
   "outputs": [
    {
     "data": {
      "text/plain": [
       "'OP852366.1OK663616.1OK663635.1MW419814.1MW419815.1MW419816.1MW419817.1MW419818.1MW419819.1MW419820.1MW419821.1MW419822.1MW419823.1MW419824.1MW419825.1MW419826.1MW419827.1MW419828.1MW419829.1MW419830.1MW419831.1MW419832.1MW419833.1MW419834.1MW419835.1MW419836.1MW419837.1MW419838.1MW419839.1MW419840.1MW419841.1MW419842.1MW419843.1MW419844.1MW419845.1MW419846.1MW419847.1MW419848.1MW419849.1MW419850.1MW419851.1MW419852.1MW419853.1MT974144.1MT974145.1MT587713.1MT587714.1MT587715.1OP852366.1OK663616.1OK663635.1MW419814.1MW419815.1MW419816.1MW419817.1MW419818.1MW419819.1MW419820.1MW419821.1MW419822.1MW419823.1MW419824.1MW419825.1MW419826.1MW419827.1MW419828.1MW419829.1MW419830.1MW419831.1MW419832.1MW419833.1MW419834.1MW419835.1MW419836.1MW419837.1MW419838.1MW419839.1MW419840.1MW419841.1MW419842.1MW419843.1MW419844.1MW419845.1MW419846.1MW419847.1MW419848.1MW419849.1MW419850.1MW419851.1MW419852.1MW419853.1MT974144.1MT974145.1MT587713.1MT587714.1MT587715.1'"
      ]
     },
     "execution_count": 21,
     "metadata": {},
     "output_type": "execute_result"
    }
   ],
   "source": [
    "sequence"
   ]
  },
  {
   "cell_type": "code",
   "execution_count": 22,
   "id": "98be5cc1",
   "metadata": {},
   "outputs": [],
   "source": [
    "def faster_downloader():\n",
    "    sequence = \"\"  \n",
    "    with open(\"data/coati.txt\") as coati:\n",
    "        name = coati.readline()[0:-1]\n",
    "        for line in coati:\n",
    "            sequence += line.replace(\"\\n\",\"\")\n",
    "    return faster"
   ]
  },
  {
   "cell_type": "code",
   "execution_count": 23,
   "id": "6b05c560",
   "metadata": {},
   "outputs": [
    {
     "data": {
      "text/plain": [
       "'OP852366.1OK663616.1OK663635.1MW419814.1MW419815.1MW419816.1MW419817.1MW419818.1MW419819.1MW419820.1MW419821.1MW419822.1MW419823.1MW419824.1MW419825.1MW419826.1MW419827.1MW419828.1MW419829.1MW419830.1MW419831.1MW419832.1MW419833.1MW419834.1MW419835.1MW419836.1MW419837.1MW419838.1MW419839.1MW419840.1MW419841.1MW419842.1MW419843.1MW419844.1MW419845.1MW419846.1MW419847.1MW419848.1MW419849.1MW419850.1MW419851.1MW419852.1MW419853.1MT974144.1MT974145.1MT587713.1MT587714.1MT587715.1OP852366.1OK663616.1OK663635.1MW419814.1MW419815.1MW419816.1MW419817.1MW419818.1MW419819.1MW419820.1MW419821.1MW419822.1MW419823.1MW419824.1MW419825.1MW419826.1MW419827.1MW419828.1MW419829.1MW419830.1MW419831.1MW419832.1MW419833.1MW419834.1MW419835.1MW419836.1MW419837.1MW419838.1MW419839.1MW419840.1MW419841.1MW419842.1MW419843.1MW419844.1MW419845.1MW419846.1MW419847.1MW419848.1MW419849.1MW419850.1MW419851.1MW419852.1MW419853.1MT974144.1MT974145.1MT587713.1MT587714.1MT587715.1'"
      ]
     },
     "execution_count": 23,
     "metadata": {},
     "output_type": "execute_result"
    }
   ],
   "source": [
    "sequence"
   ]
  },
  {
   "cell_type": "code",
   "execution_count": null,
   "id": "d7e3f448",
   "metadata": {},
   "outputs": [],
   "source": []
  }
 ],
 "metadata": {
  "kernelspec": {
   "display_name": "Python 3 (ipykernel)",
   "language": "python",
   "name": "python3"
  },
  "language_info": {
   "codemirror_mode": {
    "name": "ipython",
    "version": 3
   },
   "file_extension": ".py",
   "mimetype": "text/x-python",
   "name": "python",
   "nbconvert_exporter": "python",
   "pygments_lexer": "ipython3",
   "version": "3.9.13"
  }
 },
 "nbformat": 4,
 "nbformat_minor": 5
}
